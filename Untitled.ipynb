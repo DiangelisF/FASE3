{
 "cells": [
  {
   "cell_type": "code",
   "execution_count": 3,
   "id": "1369a0c7-7153-44c5-8181-7a251c35265d",
   "metadata": {
    "tags": []
   },
   "outputs": [],
   "source": [
    "import pandas as pd\n",
    "import matplotlib.pyplot as plt\n",
    "%matplotlib inline\n",
    "import json\n",
    "import os\n",
    "import numpy as np\n",
    "import datetime"
   ]
  },
  {
   "cell_type": "code",
   "execution_count": 7,
   "id": "c3ab806f-bb7f-48c7-b403-184732052e2f",
   "metadata": {
    "tags": []
   },
   "outputs": [
    {
     "data": {
      "text/html": [
       "<div>\n",
       "<style scoped>\n",
       "    .dataframe tbody tr th:only-of-type {\n",
       "        vertical-align: middle;\n",
       "    }\n",
       "\n",
       "    .dataframe tbody tr th {\n",
       "        vertical-align: top;\n",
       "    }\n",
       "\n",
       "    .dataframe thead th {\n",
       "        text-align: right;\n",
       "    }\n",
       "</style>\n",
       "<table border=\"1\" class=\"dataframe\">\n",
       "  <thead>\n",
       "    <tr style=\"text-align: right;\">\n",
       "      <th></th>\n",
       "      <th>Date</th>\n",
       "      <th>Open</th>\n",
       "      <th>High</th>\n",
       "      <th>Low</th>\n",
       "      <th>Close</th>\n",
       "      <th>Adj Close</th>\n",
       "      <th>Volume</th>\n",
       "    </tr>\n",
       "  </thead>\n",
       "  <tbody>\n",
       "    <tr>\n",
       "      <th>0</th>\n",
       "      <td>2014-05-19</td>\n",
       "      <td>17.980000</td>\n",
       "      <td>18.040001</td>\n",
       "      <td>17.820000</td>\n",
       "      <td>17.940001</td>\n",
       "      <td>17.185019</td>\n",
       "      <td>25935900</td>\n",
       "    </tr>\n",
       "    <tr>\n",
       "      <th>1</th>\n",
       "      <td>2014-05-20</td>\n",
       "      <td>17.900000</td>\n",
       "      <td>18.379999</td>\n",
       "      <td>17.100000</td>\n",
       "      <td>17.299999</td>\n",
       "      <td>16.571949</td>\n",
       "      <td>54506300</td>\n",
       "    </tr>\n",
       "    <tr>\n",
       "      <th>2</th>\n",
       "      <td>2014-05-21</td>\n",
       "      <td>17.459999</td>\n",
       "      <td>17.820000</td>\n",
       "      <td>17.100000</td>\n",
       "      <td>17.459999</td>\n",
       "      <td>16.725214</td>\n",
       "      <td>40672100</td>\n",
       "    </tr>\n",
       "    <tr>\n",
       "      <th>3</th>\n",
       "      <td>2014-05-22</td>\n",
       "      <td>17.510000</td>\n",
       "      <td>17.770000</td>\n",
       "      <td>17.340000</td>\n",
       "      <td>17.680000</td>\n",
       "      <td>16.935957</td>\n",
       "      <td>32321300</td>\n",
       "    </tr>\n",
       "    <tr>\n",
       "      <th>4</th>\n",
       "      <td>2014-05-23</td>\n",
       "      <td>17.580000</td>\n",
       "      <td>17.830000</td>\n",
       "      <td>17.549999</td>\n",
       "      <td>17.700001</td>\n",
       "      <td>16.955118</td>\n",
       "      <td>18155800</td>\n",
       "    </tr>\n",
       "    <tr>\n",
       "      <th>...</th>\n",
       "      <td>...</td>\n",
       "      <td>...</td>\n",
       "      <td>...</td>\n",
       "      <td>...</td>\n",
       "      <td>...</td>\n",
       "      <td>...</td>\n",
       "      <td>...</td>\n",
       "    </tr>\n",
       "    <tr>\n",
       "      <th>1238</th>\n",
       "      <td>2019-05-10</td>\n",
       "      <td>26.870001</td>\n",
       "      <td>26.920000</td>\n",
       "      <td>26.420000</td>\n",
       "      <td>26.680000</td>\n",
       "      <td>26.680000</td>\n",
       "      <td>33336000</td>\n",
       "    </tr>\n",
       "    <tr>\n",
       "      <th>1239</th>\n",
       "      <td>2019-05-13</td>\n",
       "      <td>26.209999</td>\n",
       "      <td>26.469999</td>\n",
       "      <td>25.820000</td>\n",
       "      <td>25.900000</td>\n",
       "      <td>25.900000</td>\n",
       "      <td>43146100</td>\n",
       "    </tr>\n",
       "    <tr>\n",
       "      <th>1240</th>\n",
       "      <td>2019-05-14</td>\n",
       "      <td>26.170000</td>\n",
       "      <td>26.230000</td>\n",
       "      <td>25.850000</td>\n",
       "      <td>26.000000</td>\n",
       "      <td>26.000000</td>\n",
       "      <td>34968600</td>\n",
       "    </tr>\n",
       "    <tr>\n",
       "      <th>1241</th>\n",
       "      <td>2019-05-15</td>\n",
       "      <td>25.740000</td>\n",
       "      <td>25.889999</td>\n",
       "      <td>25.660000</td>\n",
       "      <td>25.879999</td>\n",
       "      <td>25.879999</td>\n",
       "      <td>37053900</td>\n",
       "    </tr>\n",
       "    <tr>\n",
       "      <th>1242</th>\n",
       "      <td>2019-05-16</td>\n",
       "      <td>25.770000</td>\n",
       "      <td>26.040001</td>\n",
       "      <td>25.240000</td>\n",
       "      <td>25.270000</td>\n",
       "      <td>25.270000</td>\n",
       "      <td>46502200</td>\n",
       "    </tr>\n",
       "  </tbody>\n",
       "</table>\n",
       "<p>1243 rows × 7 columns</p>\n",
       "</div>"
      ],
      "text/plain": [
       "            Date       Open       High        Low      Close  Adj Close  \\\n",
       "0     2014-05-19  17.980000  18.040001  17.820000  17.940001  17.185019   \n",
       "1     2014-05-20  17.900000  18.379999  17.100000  17.299999  16.571949   \n",
       "2     2014-05-21  17.459999  17.820000  17.100000  17.459999  16.725214   \n",
       "3     2014-05-22  17.510000  17.770000  17.340000  17.680000  16.935957   \n",
       "4     2014-05-23  17.580000  17.830000  17.549999  17.700001  16.955118   \n",
       "...          ...        ...        ...        ...        ...        ...   \n",
       "1238  2019-05-10  26.870001  26.920000  26.420000  26.680000  26.680000   \n",
       "1239  2019-05-13  26.209999  26.469999  25.820000  25.900000  25.900000   \n",
       "1240  2019-05-14  26.170000  26.230000  25.850000  26.000000  26.000000   \n",
       "1241  2019-05-15  25.740000  25.889999  25.660000  25.879999  25.879999   \n",
       "1242  2019-05-16  25.770000  26.040001  25.240000  25.270000  25.270000   \n",
       "\n",
       "        Volume  \n",
       "0     25935900  \n",
       "1     54506300  \n",
       "2     40672100  \n",
       "3     32321300  \n",
       "4     18155800  \n",
       "...        ...  \n",
       "1238  33336000  \n",
       "1239  43146100  \n",
       "1240  34968600  \n",
       "1241  37053900  \n",
       "1242  46502200  \n",
       "\n",
       "[1243 rows x 7 columns]"
      ]
     },
     "execution_count": 7,
     "metadata": {},
     "output_type": "execute_result"
    }
   ],
   "source": [
    "base = pd.read_csv('PETR4.SA.csv')\n",
    "base"
   ]
  },
  {
   "cell_type": "code",
   "execution_count": 9,
   "id": "75bf50bb-adb0-44be-9daf-c641bbdf9f9e",
   "metadata": {
    "tags": []
   },
   "outputs": [
    {
     "name": "stderr",
     "output_type": "stream",
     "text": [
      "/tmp/ipykernel_8223/1637719891.py:3: FutureWarning: The argument 'date_parser' is deprecated and will be removed in a future version. Please use 'date_format' instead, or read your data in as 'object' dtype and then call 'to_datetime'.\n",
      "  base = pd.read_csv('PETR4.SA.csv', parse_dates = ['Date'], index_col = 'Date', date_parser = dateparse)\n"
     ]
    },
    {
     "data": {
      "text/html": [
       "<div>\n",
       "<style scoped>\n",
       "    .dataframe tbody tr th:only-of-type {\n",
       "        vertical-align: middle;\n",
       "    }\n",
       "\n",
       "    .dataframe tbody tr th {\n",
       "        vertical-align: top;\n",
       "    }\n",
       "\n",
       "    .dataframe thead th {\n",
       "        text-align: right;\n",
       "    }\n",
       "</style>\n",
       "<table border=\"1\" class=\"dataframe\">\n",
       "  <thead>\n",
       "    <tr style=\"text-align: right;\">\n",
       "      <th></th>\n",
       "      <th>Open</th>\n",
       "      <th>High</th>\n",
       "      <th>Low</th>\n",
       "      <th>Close</th>\n",
       "      <th>Adj Close</th>\n",
       "      <th>Volume</th>\n",
       "    </tr>\n",
       "    <tr>\n",
       "      <th>Date</th>\n",
       "      <th></th>\n",
       "      <th></th>\n",
       "      <th></th>\n",
       "      <th></th>\n",
       "      <th></th>\n",
       "      <th></th>\n",
       "    </tr>\n",
       "  </thead>\n",
       "  <tbody>\n",
       "    <tr>\n",
       "      <th>2014-05-19</th>\n",
       "      <td>17.980000</td>\n",
       "      <td>18.040001</td>\n",
       "      <td>17.820000</td>\n",
       "      <td>17.940001</td>\n",
       "      <td>17.185019</td>\n",
       "      <td>25935900</td>\n",
       "    </tr>\n",
       "    <tr>\n",
       "      <th>2014-05-20</th>\n",
       "      <td>17.900000</td>\n",
       "      <td>18.379999</td>\n",
       "      <td>17.100000</td>\n",
       "      <td>17.299999</td>\n",
       "      <td>16.571949</td>\n",
       "      <td>54506300</td>\n",
       "    </tr>\n",
       "    <tr>\n",
       "      <th>2014-05-21</th>\n",
       "      <td>17.459999</td>\n",
       "      <td>17.820000</td>\n",
       "      <td>17.100000</td>\n",
       "      <td>17.459999</td>\n",
       "      <td>16.725214</td>\n",
       "      <td>40672100</td>\n",
       "    </tr>\n",
       "    <tr>\n",
       "      <th>2014-05-22</th>\n",
       "      <td>17.510000</td>\n",
       "      <td>17.770000</td>\n",
       "      <td>17.340000</td>\n",
       "      <td>17.680000</td>\n",
       "      <td>16.935957</td>\n",
       "      <td>32321300</td>\n",
       "    </tr>\n",
       "    <tr>\n",
       "      <th>2014-05-23</th>\n",
       "      <td>17.580000</td>\n",
       "      <td>17.830000</td>\n",
       "      <td>17.549999</td>\n",
       "      <td>17.700001</td>\n",
       "      <td>16.955118</td>\n",
       "      <td>18155800</td>\n",
       "    </tr>\n",
       "    <tr>\n",
       "      <th>...</th>\n",
       "      <td>...</td>\n",
       "      <td>...</td>\n",
       "      <td>...</td>\n",
       "      <td>...</td>\n",
       "      <td>...</td>\n",
       "      <td>...</td>\n",
       "    </tr>\n",
       "    <tr>\n",
       "      <th>2019-05-10</th>\n",
       "      <td>26.870001</td>\n",
       "      <td>26.920000</td>\n",
       "      <td>26.420000</td>\n",
       "      <td>26.680000</td>\n",
       "      <td>26.680000</td>\n",
       "      <td>33336000</td>\n",
       "    </tr>\n",
       "    <tr>\n",
       "      <th>2019-05-13</th>\n",
       "      <td>26.209999</td>\n",
       "      <td>26.469999</td>\n",
       "      <td>25.820000</td>\n",
       "      <td>25.900000</td>\n",
       "      <td>25.900000</td>\n",
       "      <td>43146100</td>\n",
       "    </tr>\n",
       "    <tr>\n",
       "      <th>2019-05-14</th>\n",
       "      <td>26.170000</td>\n",
       "      <td>26.230000</td>\n",
       "      <td>25.850000</td>\n",
       "      <td>26.000000</td>\n",
       "      <td>26.000000</td>\n",
       "      <td>34968600</td>\n",
       "    </tr>\n",
       "    <tr>\n",
       "      <th>2019-05-15</th>\n",
       "      <td>25.740000</td>\n",
       "      <td>25.889999</td>\n",
       "      <td>25.660000</td>\n",
       "      <td>25.879999</td>\n",
       "      <td>25.879999</td>\n",
       "      <td>37053900</td>\n",
       "    </tr>\n",
       "    <tr>\n",
       "      <th>2019-05-16</th>\n",
       "      <td>25.770000</td>\n",
       "      <td>26.040001</td>\n",
       "      <td>25.240000</td>\n",
       "      <td>25.270000</td>\n",
       "      <td>25.270000</td>\n",
       "      <td>46502200</td>\n",
       "    </tr>\n",
       "  </tbody>\n",
       "</table>\n",
       "<p>1243 rows × 6 columns</p>\n",
       "</div>"
      ],
      "text/plain": [
       "                 Open       High        Low      Close  Adj Close    Volume\n",
       "Date                                                                       \n",
       "2014-05-19  17.980000  18.040001  17.820000  17.940001  17.185019  25935900\n",
       "2014-05-20  17.900000  18.379999  17.100000  17.299999  16.571949  54506300\n",
       "2014-05-21  17.459999  17.820000  17.100000  17.459999  16.725214  40672100\n",
       "2014-05-22  17.510000  17.770000  17.340000  17.680000  16.935957  32321300\n",
       "2014-05-23  17.580000  17.830000  17.549999  17.700001  16.955118  18155800\n",
       "...               ...        ...        ...        ...        ...       ...\n",
       "2019-05-10  26.870001  26.920000  26.420000  26.680000  26.680000  33336000\n",
       "2019-05-13  26.209999  26.469999  25.820000  25.900000  25.900000  43146100\n",
       "2019-05-14  26.170000  26.230000  25.850000  26.000000  26.000000  34968600\n",
       "2019-05-15  25.740000  25.889999  25.660000  25.879999  25.879999  37053900\n",
       "2019-05-16  25.770000  26.040001  25.240000  25.270000  25.270000  46502200\n",
       "\n",
       "[1243 rows x 6 columns]"
      ]
     },
     "execution_count": 9,
     "metadata": {},
     "output_type": "execute_result"
    }
   ],
   "source": [
    "from datetime import datetime\n",
    "dateparse = lambda dates: datetime.strptime(dates, '%Y-%m-%d')\n",
    "base = pd.read_csv('PETR4.SA.csv', parse_dates = ['Date'], index_col = 'Date', date_parser = dateparse)\n",
    "base"
   ]
  },
  {
   "cell_type": "code",
   "execution_count": 10,
   "id": "5e202e61-813f-4d23-abab-8fb9f8dc3a9e",
   "metadata": {
    "tags": []
   },
   "outputs": [
    {
     "data": {
      "text/html": [
       "<div>\n",
       "<style scoped>\n",
       "    .dataframe tbody tr th:only-of-type {\n",
       "        vertical-align: middle;\n",
       "    }\n",
       "\n",
       "    .dataframe tbody tr th {\n",
       "        vertical-align: top;\n",
       "    }\n",
       "\n",
       "    .dataframe thead th {\n",
       "        text-align: right;\n",
       "    }\n",
       "</style>\n",
       "<table border=\"1\" class=\"dataframe\">\n",
       "  <thead>\n",
       "    <tr style=\"text-align: right;\">\n",
       "      <th></th>\n",
       "      <th>Close</th>\n",
       "    </tr>\n",
       "    <tr>\n",
       "      <th>Date</th>\n",
       "      <th></th>\n",
       "    </tr>\n",
       "  </thead>\n",
       "  <tbody>\n",
       "    <tr>\n",
       "      <th>2014-05-19</th>\n",
       "      <td>17.940001</td>\n",
       "    </tr>\n",
       "    <tr>\n",
       "      <th>2014-05-20</th>\n",
       "      <td>17.299999</td>\n",
       "    </tr>\n",
       "    <tr>\n",
       "      <th>2014-05-21</th>\n",
       "      <td>17.459999</td>\n",
       "    </tr>\n",
       "    <tr>\n",
       "      <th>2014-05-22</th>\n",
       "      <td>17.680000</td>\n",
       "    </tr>\n",
       "    <tr>\n",
       "      <th>2014-05-23</th>\n",
       "      <td>17.700001</td>\n",
       "    </tr>\n",
       "    <tr>\n",
       "      <th>...</th>\n",
       "      <td>...</td>\n",
       "    </tr>\n",
       "    <tr>\n",
       "      <th>2019-05-10</th>\n",
       "      <td>26.680000</td>\n",
       "    </tr>\n",
       "    <tr>\n",
       "      <th>2019-05-13</th>\n",
       "      <td>25.900000</td>\n",
       "    </tr>\n",
       "    <tr>\n",
       "      <th>2019-05-14</th>\n",
       "      <td>26.000000</td>\n",
       "    </tr>\n",
       "    <tr>\n",
       "      <th>2019-05-15</th>\n",
       "      <td>25.879999</td>\n",
       "    </tr>\n",
       "    <tr>\n",
       "      <th>2019-05-16</th>\n",
       "      <td>25.270000</td>\n",
       "    </tr>\n",
       "  </tbody>\n",
       "</table>\n",
       "<p>1243 rows × 1 columns</p>\n",
       "</div>"
      ],
      "text/plain": [
       "                Close\n",
       "Date                 \n",
       "2014-05-19  17.940001\n",
       "2014-05-20  17.299999\n",
       "2014-05-21  17.459999\n",
       "2014-05-22  17.680000\n",
       "2014-05-23  17.700001\n",
       "...               ...\n",
       "2019-05-10  26.680000\n",
       "2019-05-13  25.900000\n",
       "2019-05-14  26.000000\n",
       "2019-05-15  25.879999\n",
       "2019-05-16  25.270000\n",
       "\n",
       "[1243 rows x 1 columns]"
      ]
     },
     "execution_count": 10,
     "metadata": {},
     "output_type": "execute_result"
    }
   ],
   "source": [
    "base.drop(columns = ['Open', 'High', 'Low', 'Adj Close', 'Volume'], axis = 1, inplace = True)\n",
    "base"
   ]
  },
  {
   "cell_type": "code",
   "execution_count": 11,
   "id": "f3942a84-e0e9-4287-b727-ae3ff61842ce",
   "metadata": {
    "tags": []
   },
   "outputs": [
    {
     "data": {
      "text/plain": [
       "(1243, 1)"
      ]
     },
     "execution_count": 11,
     "metadata": {},
     "output_type": "execute_result"
    }
   ],
   "source": [
    "base_teste = base.copy()\n",
    "base_teste.shape"
   ]
  },
  {
   "cell_type": "code",
   "execution_count": 16,
   "id": "ed1770cf-bfe0-4165-a5e2-1a1e8bfec191",
   "metadata": {
    "tags": []
   },
   "outputs": [
    {
     "data": {
      "text/html": [
       "<div>\n",
       "<style scoped>\n",
       "    .dataframe tbody tr th:only-of-type {\n",
       "        vertical-align: middle;\n",
       "    }\n",
       "\n",
       "    .dataframe tbody tr th {\n",
       "        vertical-align: top;\n",
       "    }\n",
       "\n",
       "    .dataframe thead th {\n",
       "        text-align: right;\n",
       "    }\n",
       "</style>\n",
       "<table border=\"1\" class=\"dataframe\">\n",
       "  <thead>\n",
       "    <tr style=\"text-align: right;\">\n",
       "      <th></th>\n",
       "      <th>Close</th>\n",
       "    </tr>\n",
       "    <tr>\n",
       "      <th>Date</th>\n",
       "      <th></th>\n",
       "    </tr>\n",
       "  </thead>\n",
       "  <tbody>\n",
       "    <tr>\n",
       "      <th>2014-05-19</th>\n",
       "      <td>17.940001</td>\n",
       "    </tr>\n",
       "    <tr>\n",
       "      <th>2014-05-20</th>\n",
       "      <td>17.299999</td>\n",
       "    </tr>\n",
       "    <tr>\n",
       "      <th>2014-05-21</th>\n",
       "      <td>17.459999</td>\n",
       "    </tr>\n",
       "    <tr>\n",
       "      <th>2014-05-22</th>\n",
       "      <td>17.680000</td>\n",
       "    </tr>\n",
       "    <tr>\n",
       "      <th>2014-05-23</th>\n",
       "      <td>17.700001</td>\n",
       "    </tr>\n",
       "    <tr>\n",
       "      <th>...</th>\n",
       "      <td>...</td>\n",
       "    </tr>\n",
       "    <tr>\n",
       "      <th>2019-05-10</th>\n",
       "      <td>26.680000</td>\n",
       "    </tr>\n",
       "    <tr>\n",
       "      <th>2019-05-13</th>\n",
       "      <td>25.900000</td>\n",
       "    </tr>\n",
       "    <tr>\n",
       "      <th>2019-05-14</th>\n",
       "      <td>26.000000</td>\n",
       "    </tr>\n",
       "    <tr>\n",
       "      <th>2019-05-15</th>\n",
       "      <td>25.879999</td>\n",
       "    </tr>\n",
       "    <tr>\n",
       "      <th>2019-05-16</th>\n",
       "      <td>25.270000</td>\n",
       "    </tr>\n",
       "  </tbody>\n",
       "</table>\n",
       "<p>1243 rows × 1 columns</p>\n",
       "</div>"
      ],
      "text/plain": [
       "                Close\n",
       "Date                 \n",
       "2014-05-19  17.940001\n",
       "2014-05-20  17.299999\n",
       "2014-05-21  17.459999\n",
       "2014-05-22  17.680000\n",
       "2014-05-23  17.700001\n",
       "...               ...\n",
       "2019-05-10  26.680000\n",
       "2019-05-13  25.900000\n",
       "2019-05-14  26.000000\n",
       "2019-05-15  25.879999\n",
       "2019-05-16  25.270000\n",
       "\n",
       "[1243 rows x 1 columns]"
      ]
     },
     "execution_count": 16,
     "metadata": {},
     "output_type": "execute_result"
    }
   ],
   "source": [
    "base_treinamento = base.iloc[0:1243:]\n",
    "base_treinamento"
   ]
  },
  {
   "cell_type": "code",
   "execution_count": 13,
   "id": "f3182533-452b-463f-8d87-1a515929ebd3",
   "metadata": {
    "tags": []
   },
   "outputs": [
    {
     "data": {
      "text/plain": [
       "(Timestamp('2014-05-19 00:00:00'), Timestamp('2019-05-16 00:00:00'))"
      ]
     },
     "execution_count": 13,
     "metadata": {},
     "output_type": "execute_result"
    }
   ],
   "source": [
    "base_treinamento.index.min(), base_treinamento.index.max()"
   ]
  },
  {
   "cell_type": "code",
   "execution_count": 14,
   "id": "5571ccfc-de96-47dc-aa40-e5cb20f5aa99",
   "metadata": {
    "tags": []
   },
   "outputs": [
    {
     "data": {
      "text/plain": [
       "(Timestamp('2014-05-19 00:00:00'), Timestamp('2019-05-16 00:00:00'))"
      ]
     },
     "execution_count": 14,
     "metadata": {},
     "output_type": "execute_result"
    }
   ],
   "source": [
    "base_teste.index.min(), base_teste.index.max()"
   ]
  },
  {
   "cell_type": "code",
   "execution_count": 19,
   "id": "df2c0063-c5ec-4663-9a1a-44d42ba8f05c",
   "metadata": {
    "tags": []
   },
   "outputs": [],
   "source": [
    "#dt_data_inicial = pd.Timestamp(\"2014-05-19\", freq = 'D')\n",
    "#dt_previsao_maxima = pd.Timestamp(\"2019-05-16\", freq = 'D')\n",
    "\n",
    "#faixa_treinamento = (dt_data_inicial, dt_data_final_treinamento)\n",
    "#faixa_teste = (dt_data_inicial, dt_previsao_maxima)\n",
    "\n",
    "dt_data_inicial = pd.Timestamp(\"2014-05-19\")\n",
    "dt_data_final_treinamento = pd.Timestamp(\"2019-04-03\")\n",
    "dt_previsao_maxima = pd.Timestamp(\"2019-05-16\")\n"
   ]
  },
  {
   "cell_type": "code",
   "execution_count": 21,
   "id": "4a36a046-72db-4c7f-9efd-431d38123e0b",
   "metadata": {
    "tags": []
   },
   "outputs": [],
   "source": [
    "faixa_treinamento = pd.date_range(dt_data_inicial, dt_data_final_treinamento, freq='D')\n",
    "faixa_teste = pd.date_range(dt_data_inicial, dt_previsao_maxima, freq='D')"
   ]
  },
  {
   "cell_type": "code",
   "execution_count": 32,
   "id": "a1a116e0-02c8-4bf6-bcc6-ccfe03fa7b0b",
   "metadata": {
    "tags": []
   },
   "outputs": [
    {
     "data": {
      "text/plain": [
       "DatetimeIndex(['2014-05-19', '2014-05-20', '2014-05-21', '2014-05-22',\n",
       "               '2014-05-23', '2014-05-24', '2014-05-25', '2014-05-26',\n",
       "               '2014-05-27', '2014-05-28',\n",
       "               ...\n",
       "               '2019-03-25', '2019-03-26', '2019-03-27', '2019-03-28',\n",
       "               '2019-03-29', '2019-03-30', '2019-03-31', '2019-04-01',\n",
       "               '2019-04-02', '2019-04-03'],\n",
       "              dtype='datetime64[ns]', length=1781, freq='D')"
      ]
     },
     "execution_count": 32,
     "metadata": {},
     "output_type": "execute_result"
    }
   ],
   "source": [
    "faixa_treinamento"
   ]
  },
  {
   "cell_type": "code",
   "execution_count": 36,
   "id": "b8901084-0143-414e-b47f-c9418ae45f71",
   "metadata": {
    "tags": []
   },
   "outputs": [
    {
     "data": {
      "text/plain": [
       "DatetimeIndex(['2014-05-19', '2014-05-20', '2014-05-21', '2014-05-22',\n",
       "               '2014-05-23', '2014-05-24', '2014-05-25', '2014-05-26',\n",
       "               '2014-05-27', '2014-05-28',\n",
       "               ...\n",
       "               '2019-05-07', '2019-05-08', '2019-05-09', '2019-05-10',\n",
       "               '2019-05-11', '2019-05-12', '2019-05-13', '2019-05-14',\n",
       "               '2019-05-15', '2019-05-16'],\n",
       "              dtype='datetime64[ns]', length=1824, freq='D')"
      ]
     },
     "execution_count": 36,
     "metadata": {},
     "output_type": "execute_result"
    }
   ],
   "source": [
    "faixa_teste"
   ]
  },
  {
   "cell_type": "code",
   "execution_count": 40,
   "id": "ce38933e-3ac2-411d-a1f2-913e28027d48",
   "metadata": {
    "tags": []
   },
   "outputs": [],
   "source": [
    "serie_temporal_treinamento = []\n",
    "serie_temporal_teste = []\n",
    "\n",
    "serie_temporal_treinamento.append(base_treinamento[faixa_treinamento[0]:faixa_treinamento[1214]]['Close'])\n",
    "serie_temporal_teste.append(base_teste[faixa_teste[0]:faixa_teste[1243]]['Close'])"
   ]
  },
  {
   "cell_type": "code",
   "execution_count": 41,
   "id": "0ceb1a1c-17b2-44d0-8b3e-08fbdbfd8e93",
   "metadata": {
    "tags": []
   },
   "outputs": [
    {
     "data": {
      "text/plain": [
       "[Date\n",
       " 2014-05-19    17.940001\n",
       " 2014-05-20    17.299999\n",
       " 2014-05-21    17.459999\n",
       " 2014-05-22    17.680000\n",
       " 2014-05-23    17.700001\n",
       "                 ...    \n",
       " 2017-09-08    14.710000\n",
       " 2017-09-11    14.990000\n",
       " 2017-09-12    14.870000\n",
       " 2017-09-13    15.030000\n",
       " 2017-09-14    15.040000\n",
       " Name: Close, Length: 829, dtype: float64]"
      ]
     },
     "execution_count": 41,
     "metadata": {},
     "output_type": "execute_result"
    }
   ],
   "source": [
    "serie_temporal_treinamento"
   ]
  },
  {
   "cell_type": "code",
   "execution_count": 42,
   "id": "f63ac5ce-88a9-4838-b2c7-b2d87eed6c20",
   "metadata": {
    "tags": []
   },
   "outputs": [
    {
     "data": {
      "text/plain": [
       "(list, list)"
      ]
     },
     "execution_count": 42,
     "metadata": {},
     "output_type": "execute_result"
    }
   ],
   "source": [
    "type(serie_temporal_treinamento), type(serie_temporal_teste)"
   ]
  },
  {
   "cell_type": "code",
   "execution_count": 43,
   "id": "31ed77f5-63ab-4f85-8c96-18d8beb62bdf",
   "metadata": {
    "tags": []
   },
   "outputs": [
    {
     "data": {
      "text/plain": [
       "[Date\n",
       " 2014-05-19    17.940001\n",
       " 2014-05-20    17.299999\n",
       " 2014-05-21    17.459999\n",
       " 2014-05-22    17.680000\n",
       " 2014-05-23    17.700001\n",
       "                 ...    \n",
       " 2017-09-08    14.710000\n",
       " 2017-09-11    14.990000\n",
       " 2017-09-12    14.870000\n",
       " 2017-09-13    15.030000\n",
       " 2017-09-14    15.040000\n",
       " Name: Close, Length: 829, dtype: float64]"
      ]
     },
     "execution_count": 43,
     "metadata": {},
     "output_type": "execute_result"
    }
   ],
   "source": [
    "serie_temporal_treinamento"
   ]
  },
  {
   "cell_type": "code",
   "execution_count": 44,
   "id": "988f48d8-280e-4c61-9213-9f406753d6eb",
   "metadata": {
    "tags": []
   },
   "outputs": [
    {
     "data": {
      "text/plain": [
       "[Date\n",
       " 2014-05-19    17.940001\n",
       " 2014-05-20    17.299999\n",
       " 2014-05-21    17.459999\n",
       " 2014-05-22    17.680000\n",
       " 2014-05-23    17.700001\n",
       "                 ...    \n",
       " 2017-10-09    15.890000\n",
       " 2017-10-10    16.190001\n",
       " 2017-10-11    16.080000\n",
       " 2017-10-12    16.080000\n",
       " 2017-10-13    16.080000\n",
       " Name: Close, Length: 850, dtype: float64]"
      ]
     },
     "execution_count": 44,
     "metadata": {},
     "output_type": "execute_result"
    }
   ],
   "source": [
    "serie_temporal_teste"
   ]
  },
  {
   "cell_type": "code",
   "execution_count": 45,
   "id": "c619e38d-3b89-4786-94c9-e59e9d15127e",
   "metadata": {
    "tags": []
   },
   "outputs": [
    {
     "data": {
      "text/plain": [
       "(829, 850)"
      ]
     },
     "execution_count": 45,
     "metadata": {},
     "output_type": "execute_result"
    }
   ],
   "source": [
    "len(serie_temporal_treinamento[0]), len(serie_temporal_teste[0])"
   ]
  },
  {
   "cell_type": "code",
   "execution_count": 46,
   "id": "f5181fe3-5230-4806-86c9-f5f8654a4632",
   "metadata": {
    "tags": []
   },
   "outputs": [
    {
     "data": {
      "image/png": "[encoded data removed]",
      "text/plain": [
       "<Figure size 1000x1000 with 1 Axes>"
      ]
     },
     "metadata": {},
     "output_type": "display_data"
    }
   ],
   "source": [
    "plt.figure(figsize=(10,10))\n",
    "serie_temporal_teste[0].plot(label = \"Teste\")\n",
    "serie_temporal_treinamento[0].plot(label = \"Treinamento\")\n",
    "plt.legend()\n",
    "plt.show()"
   ]
  },
  {
   "cell_type": "code",
   "execution_count": 47,
   "id": "5e6ba225-cec8-421a-82ee-fc4e074fc2da",
   "metadata": {
    "tags": []
   },
   "outputs": [],
   "source": [
    "def encode_target(ts):\n",
    "    return [x if np.isfinite(x) else \"NaN\" for x in ts]"
   ]
  },
  {
   "cell_type": "code",
   "execution_count": 48,
   "id": "e955a86a-85b7-4ab6-8795-b59349c0acd3",
   "metadata": {
    "tags": []
   },
   "outputs": [
    {
     "data": {
      "text/plain": [
       "[17.940001, 17.299999, 17.459999, 17.68, 17.700001]"
      ]
     },
     "execution_count": 48,
     "metadata": {},
     "output_type": "execute_result"
    }
   ],
   "source": [
    "encode_target(serie_temporal_treinamento[0][0:5])"
   ]
  },
  {
   "cell_type": "code",
   "execution_count": 49,
   "id": "4beae4f7-9a81-45e5-967d-d56055bd5c1b",
   "metadata": {
    "tags": []
   },
   "outputs": [],
   "source": [
    "def series_to_obj(ts):\n",
    "    obj = {\"start\": str(ts.index[0]), \"target\": encode_target(ts)}\n",
    "    return obj"
   ]
  },
  {
   "cell_type": "code",
   "execution_count": 50,
   "id": "c4f265f5-314a-4f48-8d82-0f77f6610e41",
   "metadata": {
    "tags": []
   },
   "outputs": [
    {
     "data": {
      "text/plain": [
       "{'start': '2014-05-19 00:00:00',\n",
       " 'target': [17.940001, 17.299999, 17.459999, 17.68, 17.700001]}"
      ]
     },
     "execution_count": 50,
     "metadata": {},
     "output_type": "execute_result"
    }
   ],
   "source": [
    "series_to_obj(serie_temporal_treinamento[0][0:5])"
   ]
  },
  {
   "cell_type": "code",
   "execution_count": 51,
   "id": "348d9839-29c3-48dc-807e-24448ea419c7",
   "metadata": {
    "tags": []
   },
   "outputs": [],
   "source": [
    "def series_to_jsonline(ts):\n",
    "    return json.dumps(series_to_obj(ts))"
   ]
  },
  {
   "cell_type": "code",
   "execution_count": 52,
   "id": "94fec73a-1e5e-455b-98da-1d428bd031f8",
   "metadata": {
    "tags": []
   },
   "outputs": [
    {
     "data": {
      "text/plain": [
       "'{\"start\": \"2014-05-19 00:00:00\", \"target\": [17.940001, 17.299999, 17.459999, 17.68, 17.700001]}'"
      ]
     },
     "execution_count": 52,
     "metadata": {},
     "output_type": "execute_result"
    }
   ],
   "source": [
    "series_to_jsonline(serie_temporal_treinamento[0][0:5])"
   ]
  },
  {
   "cell_type": "code",
   "execution_count": 53,
   "id": "37a195fe-aa81-422f-87ec-1ba6fe59b9bb",
   "metadata": {
    "tags": []
   },
   "outputs": [],
   "source": [
    "encoding = 'utf-8'\n",
    "arquivo_json_treinamento = 'train_petr.json'\n",
    "arquivo_json_teste = 'test_petr.json'\n",
    "with open(arquivo_json_treinamento, 'wb') as fp:\n",
    "    for ts in serie_temporal_treinamento:\n",
    "        fp.write(series_to_jsonline(ts).encode(encoding))\n",
    "        fp.write('\\n'.encode(encoding))\n",
    "\n",
    "with open(arquivo_json_teste, 'wb') as fp:\n",
    "    for ts in serie_temporal_teste:\n",
    "        fp.write(series_to_jsonline(ts).encode(encoding))\n",
    "        fp.write('\\n'.encode(encoding))"
   ]
  },
  {
   "cell_type": "code",
   "execution_count": 67,
   "id": "0534ea9c-b184-419e-9b37-3a9ffdbf1034",
   "metadata": {
    "tags": []
   },
   "outputs": [],
   "source": [
    "import boto3\n",
    "import sagemaker"
   ]
  },
  {
   "cell_type": "code",
   "execution_count": 68,
   "id": "136020e2-1a3b-46cc-8607-d8c9d18a700b",
   "metadata": {
    "tags": []
   },
   "outputs": [
    {
     "name": "stdout",
     "output_type": "stream",
     "text": [
      "Role: arn:aws:iam::554248764285:role/LabRole\n",
      "Localização da base de treinamento: s3://grupo37fiapos/datasets/petr/train/train_petr.json\n",
      "Localização da base de teste: s3://grupo37fiapos/datasets/petr/test/test_petr.json\n",
      "Modelo será salvo em: s3://grupo37fiapos/modelos/petr/deepar/output\n"
     ]
    }
   ],
   "source": [
    "session = sagemaker.Session()\n",
    "role = sagemaker.get_execution_role()\n",
    "job_name = 'deepar-petr'\n",
    "bucket = 'grupo37fiapos'\n",
    "subpasta_dataset = 'datasets/petr'\n",
    "subpasta_modelo = 'modelos/petr/deepar'\n",
    "s3_train_data = 's3://{}/{}/train/{}'.format(bucket, subpasta_dataset, 'train_petr.json')\n",
    "s3_test_data = 's3://{}/{}/test/{}'.format(bucket, subpasta_dataset, 'test_petr.json')\n",
    "output_location = 's3://{}/{}/output'.format(bucket, subpasta_modelo)\n",
    "\n",
    "print('Role: {}'.format(role))\n",
    "print('Localização da base de treinamento: {}'.format(s3_train_data))\n",
    "print('Localização da base de teste: {}'.format(s3_test_data))\n",
    "print('Modelo será salvo em: {}'.format(output_location))"
   ]
  },
  {
   "cell_type": "code",
   "execution_count": 69,
   "id": "461b94f0-3223-4fa0-9592-a935916702ad",
   "metadata": {
    "tags": []
   },
   "outputs": [],
   "source": [
    "def escreve_s3(arquivo, bucket, nome):\n",
    "    with open(arquivo, 'rb') as f:\n",
    "        return boto3.Session().resource('s3').Bucket(bucket).Object(nome).upload_fileobj(f)"
   ]
  },
  {
   "cell_type": "code",
   "execution_count": 70,
   "id": "152bd219-2575-4704-92ab-09d2e7b2f685",
   "metadata": {
    "tags": []
   },
   "outputs": [
    {
     "name": "stderr",
     "output_type": "stream",
     "text": [
      "INFO:botocore.credentials:Found credentials from IAM Role: BaseNotebookInstanceEc2InstanceRole\n",
      "INFO:botocore.credentials:Found credentials from IAM Role: BaseNotebookInstanceEc2InstanceRole\n"
     ]
    }
   ],
   "source": [
    "escreve_s3('train_petr.json', bucket, os.path.join(subpasta_dataset, 'train', 'train_petr.json'))\n",
    "escreve_s3('test_petr.json', bucket, os.path.join(subpasta_dataset, 'test', 'test_petr.json'))"
   ]
  },
  {
   "cell_type": "code",
   "execution_count": 71,
   "id": "761c3048-731b-47a4-8cc7-c6fafdfc9ed4",
   "metadata": {
    "tags": []
   },
   "outputs": [
    {
     "name": "stderr",
     "output_type": "stream",
     "text": [
      "INFO:sagemaker.image_uris:Same images used for training and inference. Defaulting to image scope: inference.\n",
      "INFO:sagemaker.image_uris:Defaulting to the only supported framework/algorithm version: 1.\n",
      "INFO:sagemaker.image_uris:Ignoring unnecessary instance type: None.\n"
     ]
    }
   ],
   "source": [
    "# https://docs.aws.amazon.com/sagemaker/latest/dg/ecr-sa-east-1.html\n",
    "container = sagemaker.image_uris.retrieve(framework = 'forecasting-deepar', region = session.boto_region_name)"
   ]
  },
  {
   "cell_type": "code",
   "execution_count": 73,
   "id": "24c7449f-127c-41ca-b285-e5169016fd1d",
   "metadata": {
    "tags": []
   },
   "outputs": [],
   "source": [
    "# https://sagemaker.readthedocs.io/en/stable/api/training/estimators.html\n",
    "# https://github.com/aws-samples/amazon-sagemaker-managed-spot-training/blob/main/xgboost_built_in_managed_spot_training_checkpointing/xgboost_built_in_managed_spot_training_checkpointing.ipynb\n",
    "deepar = sagemaker.estimator.Estimator(image_uri = container,\n",
    "                                       role = role,\n",
    "                                       instance_count = 1,\n",
    "                                       instance_type = 'ml.m5.large',\n",
    "                                       output_path = output_location,\n",
    "                                       sagemaker_session = session,\n",
    "                                       base_job_name = job_name,\n",
    "                                       use_spot_instances = True,\n",
    "                                       max_run = 3600,\n",
    "                                       max_wait = 3600)"
   ]
  },
  {
   "cell_type": "code",
   "execution_count": 75,
   "id": "a8a0c93e-3d36-42dc-b58f-da9700af8cc4",
   "metadata": {
    "tags": []
   },
   "outputs": [],
   "source": [
    "# https://docs.aws.amazon.com/sagemaker/latest/dg/deepar_hyperparameters.html\n",
    "freq = 'D'\n",
    "prediction_length = 30\n",
    "context_length = 30"
   ]
  },
  {
   "cell_type": "code",
   "execution_count": 76,
   "id": "6ccd81dc-7e76-48b2-ad60-6a5e4c553993",
   "metadata": {
    "tags": []
   },
   "outputs": [],
   "source": [
    "hyperparametros = {\n",
    "    'time_freq': freq,\n",
    "    'epochs': \"10\",\n",
    "    'context_length': str(context_length),\n",
    "    'prediction_length': str(prediction_length)\n",
    "}"
   ]
  },
  {
   "cell_type": "code",
   "execution_count": 77,
   "id": "a651c6b3-bafb-457d-8311-39ecc906f608",
   "metadata": {
    "tags": []
   },
   "outputs": [],
   "source": [
    "deepar.set_hyperparameters(**hyperparametros)"
   ]
  },
  {
   "cell_type": "code",
   "execution_count": 78,
   "id": "c6b5189e-51ee-4506-871d-e085cc61fa28",
   "metadata": {
    "tags": []
   },
   "outputs": [
    {
     "data": {
      "text/plain": [
       "{'train': 's3://grupo37fiapos/datasets/petr/train/train_petr.json',\n",
       " 'test': 's3://grupo37fiapos/datasets/petr/test/test_petr.json'}"
      ]
     },
     "execution_count": 78,
     "metadata": {},
     "output_type": "execute_result"
    }
   ],
   "source": [
    "data_channels = {'train': s3_train_data, 'test': s3_test_data}\n",
    "data_channels"
   ]
  },
  {
   "cell_type": "code",
   "execution_count": 79,
   "id": "f3420369-f244-42dc-94ae-3ecab322e888",
   "metadata": {
    "tags": []
   },
   "outputs": [
    {
     "name": "stderr",
     "output_type": "stream",
     "text": [
      "INFO:sagemaker:Creating training-job with name: deepar-petr-2024-09-30-19-29-46-391\n"
     ]
    },
    {
     "name": "stdout",
     "output_type": "stream",
     "text": [
      "2024-09-30 19:29:47 Starting - Starting the training job...\n",
      "2024-09-30 19:30:02 Starting - Preparing the instances for training...\n",
      "2024-09-30 19:30:30 Downloading - Downloading input data...\n",
      "2024-09-30 19:31:01 Downloading - Downloading the training image...........\u001b[34mDocker entrypoint called with argument(s): train\u001b[0m\n",
      "\u001b[34mRunning default environment configuration script\u001b[0m\n",
      "\u001b[34mRunning custom environment configuration script\u001b[0m\n",
      "\u001b[34m/opt/amazon/lib/python3.8/site-packages/mxnet/model.py:97: SyntaxWarning: \"is\" with a literal. Did you mean \"==\"?\n",
      "  if num_device is 1 and 'dist' not in kvstore:\u001b[0m\n",
      "\u001b[34m[09/30/2024 19:33:04 INFO 140111043700544] Reading default configuration from /opt/amazon/lib/python3.8/site-packages/algorithm/resources/default-input.json: {'_kvstore': 'auto', '_num_gpus': 'auto', '_num_kv_servers': 'auto', '_tuning_objective_metric': '', 'cardinality': 'auto', 'dropout_rate': '0.10', 'early_stopping_patience': '', 'embedding_dimension': '10', 'learning_rate': '0.001', 'likelihood': 'student-t', 'mini_batch_size': '128', 'num_cells': '40', 'num_dynamic_feat': 'auto', 'num_eval_samples': '100', 'num_layers': '2', 'test_quantiles': '[0.1, 0.2, 0.3, 0.4, 0.5, 0.6, 0.7, 0.8, 0.9]'}\u001b[0m\n",
      "\u001b[34m[09/30/2024 19:33:04 INFO 140111043700544] Merging with provided configuration from /opt/ml/input/config/hyperparameters.json: {'context_length': '30', 'epochs': '10', 'prediction_length': '30', 'time_freq': 'D'}\u001b[0m\n",
      "\u001b[34m[09/30/2024 19:33:04 INFO 140111043700544] Final configuration: {'_kvstore': 'auto', '_num_gpus': 'auto', '_num_kv_servers': 'auto', '_tuning_objective_metric': '', 'cardinality': 'auto', 'dropout_rate': '0.10', 'early_stopping_patience': '', 'embedding_dimension': '10', 'learning_rate': '0.001', 'likelihood': 'student-t', 'mini_batch_size': '128', 'num_cells': '40', 'num_dynamic_feat': 'auto', 'num_eval_samples': '100', 'num_layers': '2', 'test_quantiles': '[0.1, 0.2, 0.3, 0.4, 0.5, 0.6, 0.7, 0.8, 0.9]', 'context_length': '30', 'epochs': '10', 'prediction_length': '30', 'time_freq': 'D'}\u001b[0m\n",
      "\u001b[34mProcess 7 is a worker.\u001b[0m\n",
      "\u001b[34m[09/30/2024 19:33:04 INFO 140111043700544] Detected entry point for worker worker\u001b[0m\n",
      "\u001b[34m[09/30/2024 19:33:04 INFO 140111043700544] random_seed is None\u001b[0m\n",
      "\u001b[34m[09/30/2024 19:33:04 INFO 140111043700544] [cardinality=auto] `cat` field was NOT found in the file `/opt/ml/input/data/train/train_petr.json` and will NOT be used for training.\u001b[0m\n",
      "\u001b[34m[09/30/2024 19:33:04 INFO 140111043700544] [num_dynamic_feat=auto] `dynamic_feat` field was NOT found in the file `/opt/ml/input/data/train/train_petr.json` and will NOT be used for training.\u001b[0m\n",
      "\u001b[34m[09/30/2024 19:33:04 INFO 140111043700544] Training set statistics:\u001b[0m\n",
      "\u001b[34m[09/30/2024 19:33:04 INFO 140111043700544] Real time series\u001b[0m\n",
      "\u001b[34m[09/30/2024 19:33:04 INFO 140111043700544] number of time series: 1\u001b[0m\n",
      "\u001b[34m[09/30/2024 19:33:04 INFO 140111043700544] number of observations: 829\u001b[0m\n",
      "\u001b[34m[09/30/2024 19:33:04 INFO 140111043700544] mean target length: 829.0\u001b[0m\n",
      "\u001b[34m[09/30/2024 19:33:04 INFO 140111043700544] min/mean/max target: 4.199999809265137/12.449565082177322/24.559999465942383\u001b[0m\n",
      "\u001b[34m[09/30/2024 19:33:04 INFO 140111043700544] mean abs(target): 12.449565082177322\u001b[0m\n",
      "\u001b[34m[09/30/2024 19:33:04 INFO 140111043700544] contains missing values: no\u001b[0m\n",
      "\u001b[34m[09/30/2024 19:33:04 INFO 140111043700544] Small number of time series. Doing 1280 passes over dataset with prob 1.0 per epoch.\u001b[0m\n",
      "\u001b[34m[09/30/2024 19:33:04 INFO 140111043700544] Test set statistics:\u001b[0m\n",
      "\u001b[34m[09/30/2024 19:33:04 INFO 140111043700544] Real time series\u001b[0m\n",
      "\u001b[34m[09/30/2024 19:33:04 INFO 140111043700544] number of time series: 1\u001b[0m\n",
      "\u001b[34m[09/30/2024 19:33:04 INFO 140111043700544] number of observations: 850\u001b[0m\n",
      "\u001b[34m[09/30/2024 19:33:04 INFO 140111043700544] mean target length: 850.0\u001b[0m\n",
      "\u001b[34m[09/30/2024 19:33:04 INFO 140111043700544] min/mean/max target: 4.199999809265137/12.528753446691177/24.559999465942383\u001b[0m\n",
      "\u001b[34m[09/30/2024 19:33:04 INFO 140111043700544] mean abs(target): 12.528753446691177\u001b[0m\n",
      "\u001b[34m[09/30/2024 19:33:04 INFO 140111043700544] contains missing values: no\u001b[0m\n",
      "\u001b[34m/opt/amazon/lib/python3.8/site-packages/algorithm/core/date_feature_set.py:44: FutureWarning: weekofyear and week have been deprecated, please use DatetimeIndex.isocalendar().week instead, which returns a Series.  To exactly reproduce the behavior of week and weekofyear and return an Index, you may call pd.Int64Index(idx.isocalendar().week)\n",
      "  return index.weekofyear / 51.0 - 0.5\u001b[0m\n",
      "\u001b[34m[09/30/2024 19:33:04 INFO 140111043700544] #memory_usage::<batchbuffer> = 30.6787109375 mb\u001b[0m\n",
      "\u001b[34m/opt/amazon/python3.8/lib/python3.8/subprocess.py:848: RuntimeWarning: line buffering (buffering=1) isn't supported in binary mode, the default buffer size will be used\n",
      "  self.stdout = io.open(c2pread, 'rb', bufsize)\u001b[0m\n",
      "\u001b[34m[09/30/2024 19:33:04 INFO 140111043700544] nvidia-smi: took 0.031 seconds to run.\u001b[0m\n",
      "\u001b[34m[09/30/2024 19:33:04 INFO 140111043700544] nvidia-smi identified 0 GPUs.\u001b[0m\n",
      "\u001b[34m[09/30/2024 19:33:04 INFO 140111043700544] Number of GPUs being used: 0\u001b[0m\n",
      "\u001b[34m[09/30/2024 19:33:04 INFO 140111043700544] Create Store: local\u001b[0m\n",
      "\u001b[34m#metrics {\"StartTime\": 1727724784.7608206, \"EndTime\": 1727724784.9156733, \"Dimensions\": {\"Algorithm\": \"AWS/DeepAR\", \"Host\": \"algo-1\", \"Operation\": \"training\"}, \"Metrics\": {\"get_graph.time\": {\"sum\": 153.7308692932129, \"count\": 1, \"min\": 153.7308692932129, \"max\": 153.7308692932129}}}\u001b[0m\n",
      "\u001b[34m[09/30/2024 19:33:04 INFO 140111043700544] Number of GPUs being used: 0\u001b[0m\n",
      "\u001b[34m[09/30/2024 19:33:05 INFO 140111043700544] #memory_usage::<model> = 40 mb\u001b[0m\n",
      "\u001b[34m#metrics {\"StartTime\": 1727724784.915753, \"EndTime\": 1727724785.1547456, \"Dimensions\": {\"Algorithm\": \"AWS/DeepAR\", \"Host\": \"algo-1\", \"Operation\": \"training\"}, \"Metrics\": {\"initialize.time\": {\"sum\": 393.8002586364746, \"count\": 1, \"min\": 393.8002586364746, \"max\": 393.8002586364746}}}\u001b[0m\n",
      "\u001b[34m[19:33:05] /opt/brazil-pkg-cache/packages/AIAlgorithmsMXNet/AIAlgorithmsMXNet-1.3.x_Cuda_11.1.x.406.0/AL2_x86_64/generic-flavor/src/src/operator/nn/mkldnn/mkldnn_base.cc:74: Allocate 20480 bytes with malloc directly\u001b[0m\n",
      "\u001b[34m[09/30/2024 19:33:06 INFO 140111043700544] Epoch[0] Batch[0] avg_epoch_loss=3.487630\u001b[0m\n",
      "\u001b[34m[09/30/2024 19:33:06 INFO 140111043700544] #quality_metric: host=algo-1, epoch=0, batch=0 train loss <loss>=3.4876301288604736\u001b[0m\n",
      "\u001b[34m[09/30/2024 19:33:07 INFO 140111043700544] Epoch[0] Batch[5] avg_epoch_loss=3.185952\u001b[0m\n",
      "\u001b[34m[09/30/2024 19:33:07 INFO 140111043700544] #quality_metric: host=algo-1, epoch=0, batch=5 train loss <loss>=3.1859520276387534\u001b[0m\n",
      "\u001b[34m[09/30/2024 19:33:07 INFO 140111043700544] Epoch[0] Batch [5]#011Speed: 401.15 samples/sec#011loss=3.185952\u001b[0m\n",
      "\u001b[34m[09/30/2024 19:33:09 INFO 140111043700544] processed a total of 1261 examples\u001b[0m\n",
      "\u001b[34m#metrics {\"StartTime\": 1727724785.1548133, \"EndTime\": 1727724789.1419203, \"Dimensions\": {\"Algorithm\": \"AWS/DeepAR\", \"Host\": \"algo-1\", \"Operation\": \"training\"}, \"Metrics\": {\"epochs\": {\"sum\": 10.0, \"count\": 1, \"min\": 10, \"max\": 10}, \"update.time\": {\"sum\": 3987.018823623657, \"count\": 1, \"min\": 3987.018823623657, \"max\": 3987.018823623657}}}\u001b[0m\n",
      "\u001b[34m[09/30/2024 19:33:09 INFO 140111043700544] #throughput_metric: host=algo-1, train throughput=316.2669537875639 records/second\u001b[0m\n",
      "\u001b[34m[09/30/2024 19:33:09 INFO 140111043700544] #progress_metric: host=algo-1, completed 10.0 % of epochs\u001b[0m\n",
      "\u001b[34m[09/30/2024 19:33:09 INFO 140111043700544] #quality_metric: host=algo-1, epoch=0, train loss <loss>=2.952579665184021\u001b[0m\n",
      "\u001b[34m[09/30/2024 19:33:10 INFO 140111043700544] Epoch[1] Batch[0] avg_epoch_loss=2.368546\u001b[0m\n",
      "\u001b[34m[09/30/2024 19:33:10 INFO 140111043700544] #quality_metric: host=algo-1, epoch=1, batch=0 train loss <loss>=2.368546485900879\u001b[0m\n",
      "\n",
      "2024-09-30 19:32:57 Training - Training image download completed. Training in progress.\u001b[34m[09/30/2024 19:33:12 INFO 140111043700544] Epoch[1] Batch[5] avg_epoch_loss=2.231154\u001b[0m\n",
      "\u001b[34m[09/30/2024 19:33:12 INFO 140111043700544] #quality_metric: host=algo-1, epoch=1, batch=5 train loss <loss>=2.2311541636784873\u001b[0m\n",
      "\u001b[34m[09/30/2024 19:33:12 INFO 140111043700544] Epoch[1] Batch [5]#011Speed: 347.26 samples/sec#011loss=2.231154\u001b[0m\n",
      "\u001b[34m[09/30/2024 19:33:13 INFO 140111043700544] processed a total of 1238 examples\u001b[0m\n",
      "\u001b[34m#metrics {\"StartTime\": 1727724789.1420023, \"EndTime\": 1727724793.3797061, \"Dimensions\": {\"Algorithm\": \"AWS/DeepAR\", \"Host\": \"algo-1\", \"Operation\": \"training\"}, \"Metrics\": {\"update.time\": {\"sum\": 4237.304210662842, \"count\": 1, \"min\": 4237.304210662842, \"max\": 4237.304210662842}}}\u001b[0m\n",
      "\u001b[34m[09/30/2024 19:33:13 INFO 140111043700544] #throughput_metric: host=algo-1, train throughput=292.15967495829767 records/second\u001b[0m\n",
      "\u001b[34m[09/30/2024 19:33:13 INFO 140111043700544] #progress_metric: host=algo-1, completed 20.0 % of epochs\u001b[0m\n",
      "\u001b[34m[09/30/2024 19:33:13 INFO 140111043700544] #quality_metric: host=algo-1, epoch=1, train loss <loss>=2.130577635765076\u001b[0m\n",
      "\u001b[34m[09/30/2024 19:33:14 INFO 140111043700544] Epoch[2] Batch[0] avg_epoch_loss=1.949172\u001b[0m\n",
      "\u001b[34m[09/30/2024 19:33:14 INFO 140111043700544] #quality_metric: host=algo-1, epoch=2, batch=0 train loss <loss>=1.949171781539917\u001b[0m\n",
      "\u001b[34m[09/30/2024 19:33:15 INFO 140111043700544] Epoch[2] Batch[5] avg_epoch_loss=1.880229\u001b[0m\n",
      "\u001b[34m[09/30/2024 19:33:15 INFO 140111043700544] #quality_metric: host=algo-1, epoch=2, batch=5 train loss <loss>=1.8802292148272197\u001b[0m\n",
      "\u001b[34m[09/30/2024 19:33:15 INFO 140111043700544] Epoch[2] Batch [5]#011Speed: 395.35 samples/sec#011loss=1.880229\u001b[0m\n",
      "\u001b[34m[09/30/2024 19:33:17 INFO 140111043700544] Epoch[2] Batch[10] avg_epoch_loss=1.866416\u001b[0m\n",
      "\u001b[34m[09/30/2024 19:33:17 INFO 140111043700544] #quality_metric: host=algo-1, epoch=2, batch=10 train loss <loss>=1.8498401403427125\u001b[0m\n",
      "\u001b[34m[09/30/2024 19:33:17 INFO 140111043700544] Epoch[2] Batch [10]#011Speed: 386.66 samples/sec#011loss=1.849840\u001b[0m\n",
      "\u001b[34m[09/30/2024 19:33:17 INFO 140111043700544] processed a total of 1322 examples\u001b[0m\n",
      "\u001b[34m#metrics {\"StartTime\": 1727724793.3797748, \"EndTime\": 1727724797.3900635, \"Dimensions\": {\"Algorithm\": \"AWS/DeepAR\", \"Host\": \"algo-1\", \"Operation\": \"training\"}, \"Metrics\": {\"update.time\": {\"sum\": 4009.542226791382, \"count\": 1, \"min\": 4009.542226791382, \"max\": 4009.542226791382}}}\u001b[0m\n",
      "\u001b[34m[09/30/2024 19:33:17 INFO 140111043700544] #throughput_metric: host=algo-1, train throughput=329.7026474941119 records/second\u001b[0m\n",
      "\u001b[34m[09/30/2024 19:33:17 INFO 140111043700544] #progress_metric: host=algo-1, completed 30.0 % of epochs\u001b[0m\n",
      "\u001b[34m[09/30/2024 19:33:17 INFO 140111043700544] #quality_metric: host=algo-1, epoch=2, train loss <loss>=1.8664159991524436\u001b[0m\n",
      "\u001b[34m[09/30/2024 19:33:18 INFO 140111043700544] Epoch[3] Batch[0] avg_epoch_loss=1.786342\u001b[0m\n",
      "\u001b[34m[09/30/2024 19:33:18 INFO 140111043700544] #quality_metric: host=algo-1, epoch=3, batch=0 train loss <loss>=1.7863415479660034\u001b[0m\n",
      "\u001b[34m[09/30/2024 19:33:19 INFO 140111043700544] Epoch[3] Batch[5] avg_epoch_loss=1.670361\u001b[0m\n",
      "\u001b[34m[09/30/2024 19:33:19 INFO 140111043700544] #quality_metric: host=algo-1, epoch=3, batch=5 train loss <loss>=1.6703608830769856\u001b[0m\n",
      "\u001b[34m[09/30/2024 19:33:19 INFO 140111043700544] Epoch[3] Batch [5]#011Speed: 404.10 samples/sec#011loss=1.670361\u001b[0m\n",
      "\u001b[34m[09/30/2024 19:33:20 INFO 140111043700544] processed a total of 1203 examples\u001b[0m\n",
      "\u001b[34m#metrics {\"StartTime\": 1727724797.3901615, \"EndTime\": 1727724800.971537, \"Dimensions\": {\"Algorithm\": \"AWS/DeepAR\", \"Host\": \"algo-1\", \"Operation\": \"training\"}, \"Metrics\": {\"update.time\": {\"sum\": 3580.6968212127686, \"count\": 1, \"min\": 3580.6968212127686, \"max\": 3580.6968212127686}}}\u001b[0m\n",
      "\u001b[34m[09/30/2024 19:33:20 INFO 140111043700544] #throughput_metric: host=algo-1, train throughput=335.94801613643125 records/second\u001b[0m\n",
      "\u001b[34m[09/30/2024 19:33:20 INFO 140111043700544] #progress_metric: host=algo-1, completed 40.0 % of epochs\u001b[0m\n",
      "\u001b[34m[09/30/2024 19:33:20 INFO 140111043700544] #quality_metric: host=algo-1, epoch=3, train loss <loss>=1.6203774571418763\u001b[0m\n",
      "\u001b[34m[09/30/2024 19:33:21 INFO 140111043700544] Epoch[4] Batch[0] avg_epoch_loss=1.528342\u001b[0m\n",
      "\u001b[34m[09/30/2024 19:33:21 INFO 140111043700544] #quality_metric: host=algo-1, epoch=4, batch=0 train loss <loss>=1.5283417701721191\u001b[0m\n",
      "\u001b[34m[09/30/2024 19:33:23 INFO 140111043700544] Epoch[4] Batch[5] avg_epoch_loss=1.504918\u001b[0m\n",
      "\u001b[34m[09/30/2024 19:33:23 INFO 140111043700544] #quality_metric: host=algo-1, epoch=4, batch=5 train loss <loss>=1.5049182375272114\u001b[0m\n",
      "\u001b[34m[09/30/2024 19:33:23 INFO 140111043700544] Epoch[4] Batch [5]#011Speed: 404.36 samples/sec#011loss=1.504918\u001b[0m\n",
      "\u001b[34m[09/30/2024 19:33:24 INFO 140111043700544] Epoch[4] Batch[10] avg_epoch_loss=1.507600\u001b[0m\n",
      "\u001b[34m[09/30/2024 19:33:24 INFO 140111043700544] #quality_metric: host=algo-1, epoch=4, batch=10 train loss <loss>=1.510818076133728\u001b[0m\n",
      "\u001b[34m[09/30/2024 19:33:24 INFO 140111043700544] Epoch[4] Batch [10]#011Speed: 401.76 samples/sec#011loss=1.510818\u001b[0m\n",
      "\u001b[34m[09/30/2024 19:33:24 INFO 140111043700544] processed a total of 1286 examples\u001b[0m\n",
      "\u001b[34m#metrics {\"StartTime\": 1727724800.9717143, \"EndTime\": 1727724804.906178, \"Dimensions\": {\"Algorithm\": \"AWS/DeepAR\", \"Host\": \"algo-1\", \"Operation\": \"training\"}, \"Metrics\": {\"update.time\": {\"sum\": 3933.917999267578, \"count\": 1, \"min\": 3933.917999267578, \"max\": 3933.917999267578}}}\u001b[0m\n",
      "\u001b[34m[09/30/2024 19:33:24 INFO 140111043700544] #throughput_metric: host=algo-1, train throughput=326.8889512972653 records/second\u001b[0m\n",
      "\u001b[34m[09/30/2024 19:33:24 INFO 140111043700544] #progress_metric: host=algo-1, completed 50.0 % of epochs\u001b[0m\n",
      "\u001b[34m[09/30/2024 19:33:24 INFO 140111043700544] #quality_metric: host=algo-1, epoch=4, train loss <loss>=1.5075999823483555\u001b[0m\n",
      "\u001b[34m[09/30/2024 19:33:25 INFO 140111043700544] Epoch[5] Batch[0] avg_epoch_loss=1.499584\u001b[0m\n",
      "\u001b[34m[09/30/2024 19:33:25 INFO 140111043700544] #quality_metric: host=algo-1, epoch=5, batch=0 train loss <loss>=1.4995836019515991\u001b[0m\n",
      "\u001b[34m[09/30/2024 19:33:27 INFO 140111043700544] Epoch[5] Batch[5] avg_epoch_loss=1.444172\u001b[0m\n",
      "\u001b[34m[09/30/2024 19:33:27 INFO 140111043700544] #quality_metric: host=algo-1, epoch=5, batch=5 train loss <loss>=1.4441716472307842\u001b[0m\n",
      "\u001b[34m[09/30/2024 19:33:27 INFO 140111043700544] Epoch[5] Batch [5]#011Speed: 402.16 samples/sec#011loss=1.444172\u001b[0m\n",
      "\u001b[34m[09/30/2024 19:33:28 INFO 140111043700544] Epoch[5] Batch[10] avg_epoch_loss=1.407206\u001b[0m\n",
      "\u001b[34m[09/30/2024 19:33:28 INFO 140111043700544] #quality_metric: host=algo-1, epoch=5, batch=10 train loss <loss>=1.3628471136093139\u001b[0m\n",
      "\u001b[34m[09/30/2024 19:33:28 INFO 140111043700544] Epoch[5] Batch [10]#011Speed: 397.29 samples/sec#011loss=1.362847\u001b[0m\n",
      "\u001b[34m[09/30/2024 19:33:28 INFO 140111043700544] processed a total of 1284 examples\u001b[0m\n",
      "\u001b[34m#metrics {\"StartTime\": 1727724804.9062817, \"EndTime\": 1727724808.851285, \"Dimensions\": {\"Algorithm\": \"AWS/DeepAR\", \"Host\": \"algo-1\", \"Operation\": \"training\"}, \"Metrics\": {\"update.time\": {\"sum\": 3944.5245265960693, \"count\": 1, \"min\": 3944.5245265960693, \"max\": 3944.5245265960693}}}\u001b[0m\n",
      "\u001b[34m[09/30/2024 19:33:28 INFO 140111043700544] #throughput_metric: host=algo-1, train throughput=325.5057825096061 records/second\u001b[0m\n",
      "\u001b[34m[09/30/2024 19:33:28 INFO 140111043700544] #progress_metric: host=algo-1, completed 60.0 % of epochs\u001b[0m\n",
      "\u001b[34m[09/30/2024 19:33:28 INFO 140111043700544] #quality_metric: host=algo-1, epoch=5, train loss <loss>=1.407205950130116\u001b[0m\n",
      "\u001b[34m[09/30/2024 19:33:29 INFO 140111043700544] Epoch[6] Batch[0] avg_epoch_loss=1.492761\u001b[0m\n",
      "\u001b[34m[09/30/2024 19:33:29 INFO 140111043700544] #quality_metric: host=algo-1, epoch=6, batch=0 train loss <loss>=1.492761254310608\u001b[0m\n",
      "\u001b[34m[09/30/2024 19:33:31 INFO 140111043700544] Epoch[6] Batch[5] avg_epoch_loss=1.430371\u001b[0m\n",
      "\u001b[34m[09/30/2024 19:33:31 INFO 140111043700544] #quality_metric: host=algo-1, epoch=6, batch=5 train loss <loss>=1.4303705890973408\u001b[0m\n",
      "\u001b[34m[09/30/2024 19:33:31 INFO 140111043700544] Epoch[6] Batch [5]#011Speed: 399.70 samples/sec#011loss=1.430371\u001b[0m\n",
      "\u001b[34m[09/30/2024 19:33:32 INFO 140111043700544] processed a total of 1280 examples\u001b[0m\n",
      "\u001b[34m#metrics {\"StartTime\": 1727724808.851344, \"EndTime\": 1727724812.5005064, \"Dimensions\": {\"Algorithm\": \"AWS/DeepAR\", \"Host\": \"algo-1\", \"Operation\": \"training\"}, \"Metrics\": {\"update.time\": {\"sum\": 3648.5812664031982, \"count\": 1, \"min\": 3648.5812664031982, \"max\": 3648.5812664031982}}}\u001b[0m\n",
      "\u001b[34m[09/30/2024 19:33:32 INFO 140111043700544] #throughput_metric: host=algo-1, train throughput=350.80909821625244 records/second\u001b[0m\n",
      "\u001b[34m[09/30/2024 19:33:32 INFO 140111043700544] #progress_metric: host=algo-1, completed 70.0 % of epochs\u001b[0m\n",
      "\u001b[34m[09/30/2024 19:33:32 INFO 140111043700544] #quality_metric: host=algo-1, epoch=6, train loss <loss>=1.3824757933616638\u001b[0m\n",
      "\u001b[34m[09/30/2024 19:33:33 INFO 140111043700544] Epoch[7] Batch[0] avg_epoch_loss=1.264852\u001b[0m\n",
      "\u001b[34m[09/30/2024 19:33:33 INFO 140111043700544] #quality_metric: host=algo-1, epoch=7, batch=0 train loss <loss>=1.2648521661758423\u001b[0m\n",
      "\u001b[34m[09/30/2024 19:33:34 INFO 140111043700544] Epoch[7] Batch[5] avg_epoch_loss=1.302386\u001b[0m\n",
      "\u001b[34m[09/30/2024 19:33:34 INFO 140111043700544] #quality_metric: host=algo-1, epoch=7, batch=5 train loss <loss>=1.3023855288823445\u001b[0m\n",
      "\u001b[34m[09/30/2024 19:33:34 INFO 140111043700544] Epoch[7] Batch [5]#011Speed: 405.43 samples/sec#011loss=1.302386\u001b[0m\n",
      "\u001b[34m[09/30/2024 19:33:36 INFO 140111043700544] processed a total of 1241 examples\u001b[0m\n",
      "\u001b[34m#metrics {\"StartTime\": 1727724812.5005846, \"EndTime\": 1727724816.1143763, \"Dimensions\": {\"Algorithm\": \"AWS/DeepAR\", \"Host\": \"algo-1\", \"Operation\": \"training\"}, \"Metrics\": {\"update.time\": {\"sum\": 3613.3077144622803, \"count\": 1, \"min\": 3613.3077144622803, \"max\": 3613.3077144622803}}}\u001b[0m\n",
      "\u001b[34m[09/30/2024 19:33:36 INFO 140111043700544] #throughput_metric: host=algo-1, train throughput=343.43304059236584 records/second\u001b[0m\n",
      "\u001b[34m[09/30/2024 19:33:36 INFO 140111043700544] #progress_metric: host=algo-1, completed 80.0 % of epochs\u001b[0m\n",
      "\u001b[34m[09/30/2024 19:33:36 INFO 140111043700544] #quality_metric: host=algo-1, epoch=7, train loss <loss>=1.2985777378082275\u001b[0m\n",
      "\u001b[34m[09/30/2024 19:33:36 INFO 140111043700544] Epoch[8] Batch[0] avg_epoch_loss=1.266151\u001b[0m\n",
      "\u001b[34m[09/30/2024 19:33:36 INFO 140111043700544] #quality_metric: host=algo-1, epoch=8, batch=0 train loss <loss>=1.2661508321762085\u001b[0m\n",
      "\n",
      "2024-09-30 19:33:53 Uploading - Uploading generated training model\u001b[34m[09/30/2024 19:33:38 INFO 140111043700544] Epoch[8] Batch[5] avg_epoch_loss=1.266683\u001b[0m\n",
      "\u001b[34m[09/30/2024 19:33:38 INFO 140111043700544] #quality_metric: host=algo-1, epoch=8, batch=5 train loss <loss>=1.266683022181193\u001b[0m\n",
      "\u001b[34m[09/30/2024 19:33:38 INFO 140111043700544] Epoch[8] Batch [5]#011Speed: 403.88 samples/sec#011loss=1.266683\u001b[0m\n",
      "\u001b[34m[09/30/2024 19:33:40 INFO 140111043700544] Epoch[8] Batch[10] avg_epoch_loss=1.243775\u001b[0m\n",
      "\u001b[34m[09/30/2024 19:33:40 INFO 140111043700544] #quality_metric: host=algo-1, epoch=8, batch=10 train loss <loss>=1.2162858247756958\u001b[0m\n",
      "\u001b[34m[09/30/2024 19:33:40 INFO 140111043700544] Epoch[8] Batch [10]#011Speed: 400.40 samples/sec#011loss=1.216286\u001b[0m\n",
      "\u001b[34m[09/30/2024 19:33:40 INFO 140111043700544] processed a total of 1284 examples\u001b[0m\n",
      "\u001b[34m#metrics {\"StartTime\": 1727724816.1145084, \"EndTime\": 1727724820.053299, \"Dimensions\": {\"Algorithm\": \"AWS/DeepAR\", \"Host\": \"algo-1\", \"Operation\": \"training\"}, \"Metrics\": {\"update.time\": {\"sum\": 3938.272476196289, \"count\": 1, \"min\": 3938.272476196289, \"max\": 3938.272476196289}}}\u001b[0m\n",
      "\u001b[34m[09/30/2024 19:33:40 INFO 140111043700544] #throughput_metric: host=algo-1, train throughput=326.0238152056852 records/second\u001b[0m\n",
      "\u001b[34m[09/30/2024 19:33:40 INFO 140111043700544] #progress_metric: host=algo-1, completed 90.0 % of epochs\u001b[0m\n",
      "\u001b[34m[09/30/2024 19:33:40 INFO 140111043700544] #quality_metric: host=algo-1, epoch=8, train loss <loss>=1.2437752051786943\u001b[0m\n",
      "\u001b[34m[09/30/2024 19:33:40 INFO 140111043700544] Epoch[9] Batch[0] avg_epoch_loss=1.216459\u001b[0m\n",
      "\u001b[34m[09/30/2024 19:33:40 INFO 140111043700544] #quality_metric: host=algo-1, epoch=9, batch=0 train loss <loss>=1.216458797454834\u001b[0m\n",
      "\u001b[34m[09/30/2024 19:33:42 INFO 140111043700544] Epoch[9] Batch[5] avg_epoch_loss=1.197758\u001b[0m\n",
      "\u001b[34m[09/30/2024 19:33:42 INFO 140111043700544] #quality_metric: host=algo-1, epoch=9, batch=5 train loss <loss>=1.1977582573890686\u001b[0m\n",
      "\u001b[34m[09/30/2024 19:33:42 INFO 140111043700544] Epoch[9] Batch [5]#011Speed: 401.68 samples/sec#011loss=1.197758\u001b[0m\n",
      "\u001b[34m[09/30/2024 19:33:43 INFO 140111043700544] processed a total of 1255 examples\u001b[0m\n",
      "\u001b[34m#metrics {\"StartTime\": 1727724820.0533578, \"EndTime\": 1727724823.6752937, \"Dimensions\": {\"Algorithm\": \"AWS/DeepAR\", \"Host\": \"algo-1\", \"Operation\": \"training\"}, \"Metrics\": {\"update.time\": {\"sum\": 3621.2966442108154, \"count\": 1, \"min\": 3621.2966442108154, \"max\": 3621.2966442108154}}}\u001b[0m\n",
      "\u001b[34m[09/30/2024 19:33:43 INFO 140111043700544] #throughput_metric: host=algo-1, train throughput=346.5486963370929 records/second\u001b[0m\n",
      "\u001b[34m[09/30/2024 19:33:43 INFO 140111043700544] #progress_metric: host=algo-1, completed 100.0 % of epochs\u001b[0m\n",
      "\u001b[34m[09/30/2024 19:33:43 INFO 140111043700544] #quality_metric: host=algo-1, epoch=9, train loss <loss>=1.2059061884880067\u001b[0m\n",
      "\u001b[34m[09/30/2024 19:33:43 INFO 140111043700544] Final loss: 1.2059061884880067 (occurred at epoch 9)\u001b[0m\n",
      "\u001b[34m[09/30/2024 19:33:43 INFO 140111043700544] #quality_metric: host=algo-1, train final_loss <loss>=1.2059061884880067\u001b[0m\n",
      "\u001b[34m[09/30/2024 19:33:43 INFO 140111043700544] Worker algo-1 finished training.\u001b[0m\n",
      "\u001b[34m[09/30/2024 19:33:43 WARNING 140111043700544] wait_for_all_workers will not sync workers since the kv store is not running distributed\u001b[0m\n",
      "\u001b[34m[09/30/2024 19:33:43 INFO 140111043700544] All workers finished. Serializing model for prediction.\u001b[0m\n",
      "\u001b[34m#metrics {\"StartTime\": 1727724823.6753812, \"EndTime\": 1727724823.8824098, \"Dimensions\": {\"Algorithm\": \"AWS/DeepAR\", \"Host\": \"algo-1\", \"Operation\": \"training\"}, \"Metrics\": {\"get_graph.time\": {\"sum\": 204.83016967773438, \"count\": 1, \"min\": 204.83016967773438, \"max\": 204.83016967773438}}}\u001b[0m\n",
      "\u001b[34m[09/30/2024 19:33:43 INFO 140111043700544] Number of GPUs being used: 0\u001b[0m\n",
      "\u001b[34m#metrics {\"StartTime\": 1727724823.8824816, \"EndTime\": 1727724823.9592314, \"Dimensions\": {\"Algorithm\": \"AWS/DeepAR\", \"Host\": \"algo-1\", \"Operation\": \"training\"}, \"Metrics\": {\"finalize.time\": {\"sum\": 281.7089557647705, \"count\": 1, \"min\": 281.7089557647705, \"max\": 281.7089557647705}}}\u001b[0m\n",
      "\u001b[34m[09/30/2024 19:33:43 INFO 140111043700544] Serializing to /opt/ml/model/model_algo-1\u001b[0m\n",
      "\u001b[34m[09/30/2024 19:33:43 INFO 140111043700544] Saved checkpoint to \"/opt/ml/model/model_algo-1-0000.params\"\u001b[0m\n",
      "\u001b[34m#metrics {\"StartTime\": 1727724823.959371, \"EndTime\": 1727724823.9718275, \"Dimensions\": {\"Algorithm\": \"AWS/DeepAR\", \"Host\": \"algo-1\", \"Operation\": \"training\"}, \"Metrics\": {\"model.serialize.time\": {\"sum\": 12.389183044433594, \"count\": 1, \"min\": 12.389183044433594, \"max\": 12.389183044433594}}}\u001b[0m\n",
      "\u001b[34m[09/30/2024 19:33:43 INFO 140111043700544] Successfully serialized the model for prediction.\u001b[0m\n",
      "\u001b[34m[09/30/2024 19:33:43 INFO 140111043700544] #memory_usage::<batchbuffer> = 30.6787109375 mb\u001b[0m\n",
      "\u001b[34m[09/30/2024 19:33:43 INFO 140111043700544] Evaluating model accuracy on testset using 100 samples\u001b[0m\n",
      "\u001b[34m#metrics {\"StartTime\": 1727724823.971879, \"EndTime\": 1727724823.9774117, \"Dimensions\": {\"Algorithm\": \"AWS/DeepAR\", \"Host\": \"algo-1\", \"Operation\": \"training\"}, \"Metrics\": {\"model.bind.time\": {\"sum\": 0.04291534423828125, \"count\": 1, \"min\": 0.04291534423828125, \"max\": 0.04291534423828125}}}\u001b[0m\n",
      "\u001b[34m#metrics {\"StartTime\": 1727724823.9774811, \"EndTime\": 1727724826.276096, \"Dimensions\": {\"Algorithm\": \"AWS/DeepAR\", \"Host\": \"algo-1\", \"Operation\": \"training\"}, \"Metrics\": {\"model.score.time\": {\"sum\": 2298.7539768218994, \"count\": 1, \"min\": 2298.7539768218994, \"max\": 2298.7539768218994}}}\u001b[0m\n",
      "\u001b[34m[09/30/2024 19:33:46 INFO 140111043700544] #test_score (algo-1, RMSE): 0.2710983056117135\u001b[0m\n",
      "\u001b[34m[09/30/2024 19:33:46 INFO 140111043700544] #test_score (algo-1, mean_absolute_QuantileLoss): 6.553336842854818\u001b[0m\n",
      "\u001b[34m[09/30/2024 19:33:46 INFO 140111043700544] #test_score (algo-1, mean_wQuantileLoss): 0.014184405396439328\u001b[0m\n",
      "\u001b[34m[09/30/2024 19:33:46 INFO 140111043700544] #test_score (algo-1, wQuantileLoss[0.1]): 0.011986649029604913\u001b[0m\n",
      "\u001b[34m[09/30/2024 19:33:46 INFO 140111043700544] #test_score (algo-1, wQuantileLoss[0.2]): 0.01544978883547107\u001b[0m\n",
      "\u001b[34m[09/30/2024 19:33:46 INFO 140111043700544] #test_score (algo-1, wQuantileLoss[0.3]): 0.016334849254677097\u001b[0m\n",
      "\u001b[34m[09/30/2024 19:33:46 INFO 140111043700544] #test_score (algo-1, wQuantileLoss[0.4]): 0.015417026908326317\u001b[0m\n",
      "\u001b[34m[09/30/2024 19:33:46 INFO 140111043700544] #test_score (algo-1, wQuantileLoss[0.5]): 0.013636269734687095\u001b[0m\n",
      "\u001b[34m[09/30/2024 19:33:46 INFO 140111043700544] #test_score (algo-1, wQuantileLoss[0.6]): 0.012489605587317593\u001b[0m\n",
      "\u001b[34m[09/30/2024 19:33:46 INFO 140111043700544] #test_score (algo-1, wQuantileLoss[0.7]): 0.014656585911104743\u001b[0m\n",
      "\u001b[34m[09/30/2024 19:33:46 INFO 140111043700544] #test_score (algo-1, wQuantileLoss[0.8]): 0.015833364874088308\u001b[0m\n",
      "\u001b[34m[09/30/2024 19:33:46 INFO 140111043700544] #test_score (algo-1, wQuantileLoss[0.9]): 0.011855508432676801\u001b[0m\n",
      "\u001b[34m[09/30/2024 19:33:46 INFO 140111043700544] #quality_metric: host=algo-1, test RMSE <loss>=0.2710983056117135\u001b[0m\n",
      "\u001b[34m[09/30/2024 19:33:46 INFO 140111043700544] #quality_metric: host=algo-1, test mean_wQuantileLoss <loss>=0.014184405396439328\u001b[0m\n",
      "\u001b[34m#metrics {\"StartTime\": 1727724826.276171, \"EndTime\": 1727724826.3065262, \"Dimensions\": {\"Algorithm\": \"AWS/DeepAR\", \"Host\": \"algo-1\", \"Operation\": \"training\"}, \"Metrics\": {\"setuptime\": {\"sum\": 4.877567291259766, \"count\": 1, \"min\": 4.877567291259766, \"max\": 4.877567291259766}, \"totaltime\": {\"sum\": 41847.69892692566, \"count\": 1, \"min\": 41847.69892692566, \"max\": 41847.69892692566}}}\u001b[0m\n",
      "\n",
      "2024-09-30 19:34:10 Completed - Training job completed\n",
      "Training seconds: 220\n",
      "Billable seconds: 84\n",
      "Managed Spot Training savings: 61.8%\n"
     ]
    }
   ],
   "source": [
    "deepar.fit(inputs = data_channels)"
   ]
  },
  {
   "cell_type": "markdown",
   "id": "de0c7727-41c3-40ee-af2f-8762a13a8e07",
   "metadata": {},
   "source": [
    "# Deploy e previsões"
   ]
  },
  {
   "cell_type": "code",
   "execution_count": 80,
   "id": "3603cd93-642a-4c8c-b638-a7df76febf59",
   "metadata": {
    "tags": []
   },
   "outputs": [
    {
     "name": "stdout",
     "output_type": "stream",
     "text": [
      "Job name:  deepar-petr-2024-09-30-19-29-46-391\n"
     ]
    }
   ],
   "source": [
    "job_name = deepar.latest_training_job.name\n",
    "print('Job name: ', job_name)"
   ]
  },
  {
   "cell_type": "code",
   "execution_count": 81,
   "id": "9681bf21-5bf9-40c8-a2bd-12764f92e546",
   "metadata": {
    "tags": []
   },
   "outputs": [
    {
     "name": "stderr",
     "output_type": "stream",
     "text": [
      "INFO:sagemaker:Creating model with name: deepar-petr-2024-09-30-19-29-46-391\n",
      "INFO:sagemaker:Creating endpoint-config with name deepar-petr-2024-09-30-19-29-46-391\n",
      "INFO:sagemaker:Creating endpoint with name deepar-petr-2024-09-30-19-29-46-391\n"
     ]
    },
    {
     "name": "stdout",
     "output_type": "stream",
     "text": [
      "----------!"
     ]
    }
   ],
   "source": [
    "endpoint = session.endpoint_from_job(job_name = job_name,\n",
    "                                     initial_instance_count = 1,\n",
    "                                     instance_type = \"ml.m5.large\",\n",
    "                                     image_uri = container,\n",
    "                                     role = role)"
   ]
  },
  {
   "cell_type": "code",
   "execution_count": 82,
   "id": "51849d65-ffb6-4f9c-8820-87001e5cee1e",
   "metadata": {
    "tags": []
   },
   "outputs": [
    {
     "name": "stdout",
     "output_type": "stream",
     "text": [
      "Endpoint:  deepar-petr-2024-09-30-19-29-46-391\n"
     ]
    }
   ],
   "source": [
    "print('Endpoint: ', endpoint)"
   ]
  },
  {
   "cell_type": "code",
   "execution_count": 84,
   "id": "435c8723-8a1e-4146-b42f-f09ce9bc5a01",
   "metadata": {
    "tags": []
   },
   "outputs": [],
   "source": [
    "class DeepARPredictor(sagemaker.predictor.Predictor):\n",
    "\n",
    "    def set_prediction_parameters(self, freq, prediction_length):\n",
    "        \"\"\"Set the time frequency and prediction length parameters.\n",
    "          This method **must** be called before being able to use `predict`.\n",
    "\n",
    "        Parameters:\n",
    "        freq -- string indicating the time frequency\n",
    "        prediction_length -- integer, number of predicted time points\n",
    "\n",
    "        Return value: none.\n",
    "        \"\"\"\n",
    "        self.freq = freq\n",
    "        self.prediction_length = prediction_length\n",
    "\n",
    "    def predict(self, ts, cat=None, dynamic_feat=None,\n",
    "                encoding=\"utf-8\", num_samples=100, quantiles=[\"0.1\", \"0.5\", \"0.9\"]):\n",
    "        \"\"\"Requests the prediction of for the time series listed in `ts`,\n",
    "           each with the (optional) corresponding category listed in `cat`.\n",
    "\n",
    "        Parameters:\n",
    "        ts -- list of `pandas.Series` objects, the time series to predict\n",
    "        cat -- list of integers (default: None)\n",
    "        encoding -- string, encoding to use for the request (default: \"utf-8\")\n",
    "        num_samples -- integer, number of samples to compute at prediction time (default: 100)\n",
    "        quantiles -- list of strings specifying the quantiles to compute (default: [\"0.1\", \"0.5\", \"0.9\"])\n",
    "\n",
    "        Return value: list of `pandas.DataFrame` objects, each containing the predictions\n",
    "        \"\"\"\n",
    "        prediction_times = [x.index[-1] + datetime.timedelta(hours=1) for x in ts]\n",
    "\n",
    "        req = self.__encode_request(ts, cat, dynamic_feat, encoding, num_samples, quantiles)\n",
    "        res = super(DeepARPredictor, self).predict(req)\n",
    "        return self.__decode_response(res, prediction_times, encoding)\n",
    "\n",
    "    def __encode_request(self, ts, cat, dynamic_feat, encoding, num_samples, quantiles):\n",
    "\n",
    "        instances = [series_to_obj(ts[k]) for k in range(len(ts))]\n",
    "\n",
    "        configuration = {\"num_samples\": num_samples, \"output_types\": [\"quantiles\"], \"quantiles\": quantiles}\n",
    "        http_request_data = {\"instances\": instances, \"configuration\": configuration}\n",
    "        return json.dumps(http_request_data).encode(encoding)\n",
    "\n",
    "    def __decode_response(self, response, prediction_times, encoding):\n",
    "        response_data = json.loads(response.decode(encoding))\n",
    "        list_of_df = []\n",
    "        for k in range(len(prediction_times)):\n",
    "            prediction_index = pd.date_range(start=prediction_times[k], freq=self.freq, periods=self.prediction_length)\n",
    "            list_of_df.append(pd.DataFrame(data=response_data['predictions'][k]['quantiles'], index=prediction_index))\n",
    "        return list_of_df"
   ]
  },
  {
   "cell_type": "code",
   "execution_count": 85,
   "id": "387f1dc7-127a-4d5d-a9db-c6dd0dc780ba",
   "metadata": {
    "tags": []
   },
   "outputs": [],
   "source": [
    "predictor = DeepARPredictor(endpoint_name = 'deepar-petr-2024-09-30-19-29-46-391',\n",
    "                            sagemaker_session = session)\n",
    "predictor.set_prediction_parameters(freq, prediction_length)\n",
    "predictor.serializer.content_type = \"application/json\""
   ]
  },
  {
   "cell_type": "code",
   "execution_count": 86,
   "id": "87e0423f-28b7-4182-8403-07a29b40fb80",
   "metadata": {
    "tags": []
   },
   "outputs": [],
   "source": [
    "import datetime\n",
    "previsoes = predictor.predict(serie_temporal_treinamento)"
   ]
  },
  {
   "cell_type": "code",
   "execution_count": 87,
   "id": "073d8a1c-338b-463f-95e2-05ff0518e334",
   "metadata": {
    "tags": []
   },
   "outputs": [
    {
     "data": {
      "text/plain": [
       "30"
      ]
     },
     "execution_count": 87,
     "metadata": {},
     "output_type": "execute_result"
    }
   ],
   "source": [
    "len(previsoes[0])"
   ]
  },
  {
   "cell_type": "code",
   "execution_count": 88,
   "id": "cb48fef8-7447-489a-9987-2da1701bc8e9",
   "metadata": {
    "tags": []
   },
   "outputs": [
    {
     "data": {
      "text/plain": [
       "[                           0.1        0.5        0.9\n",
       " 2017-09-14 01:00:00  14.180793  15.148305  16.008142\n",
       " 2017-09-15 01:00:00  14.317443  15.197432  15.905741\n",
       " 2017-09-16 01:00:00  14.367135  15.287154  16.381117\n",
       " 2017-09-17 01:00:00  14.680395  15.522368  16.361874\n",
       " 2017-09-18 01:00:00  14.586409  15.543056  16.279129\n",
       " 2017-09-19 01:00:00  14.734097  15.519370  16.341413\n",
       " 2017-09-20 01:00:00  14.750218  15.596707  16.491175\n",
       " 2017-09-21 01:00:00  15.189421  15.975567  16.904573\n",
       " 2017-09-22 01:00:00  14.776892  16.118959  17.156345\n",
       " 2017-09-23 01:00:00  15.257006  16.124050  17.408463\n",
       " 2017-09-24 01:00:00  15.247048  16.025248  17.210464\n",
       " 2017-09-25 01:00:00  14.857231  15.964072  17.232584\n",
       " 2017-09-26 01:00:00  15.241796  16.212679  17.309847\n",
       " 2017-09-27 01:00:00  14.913692  15.990914  17.035057\n",
       " 2017-09-28 01:00:00  15.227200  16.231424  17.145126\n",
       " 2017-09-29 01:00:00  15.033379  16.160521  17.139927\n",
       " 2017-09-30 01:00:00  15.142875  16.423386  17.402534\n",
       " 2017-10-01 01:00:00  15.337532  16.253408  17.435970\n",
       " 2017-10-02 01:00:00  15.444486  16.326849  17.344732\n",
       " 2017-10-03 01:00:00  15.200872  16.302912  17.420511\n",
       " 2017-10-04 01:00:00  15.252093  16.135468  17.217880\n",
       " 2017-10-05 01:00:00  15.401817  16.417830  17.381298\n",
       " 2017-10-06 01:00:00  15.261620  16.235933  17.282789\n",
       " 2017-10-07 01:00:00  15.244766  16.308126  17.202520\n",
       " 2017-10-08 01:00:00  15.267807  16.527927  17.617924\n",
       " 2017-10-09 01:00:00  15.571943  16.485308  17.392813\n",
       " 2017-10-10 01:00:00  15.166233  16.376577  17.374361\n",
       " 2017-10-11 01:00:00  15.459747  16.165150  17.196321\n",
       " 2017-10-12 01:00:00  15.150396  16.180677  17.169191\n",
       " 2017-10-13 01:00:00  15.194876  16.369316  17.322174]"
      ]
     },
     "execution_count": 88,
     "metadata": {},
     "output_type": "execute_result"
    }
   ],
   "source": [
    "previsoes"
   ]
  },
  {
   "cell_type": "code",
   "execution_count": 89,
   "id": "17103511-8b87-4bcc-9c92-983e34ec06eb",
   "metadata": {
    "tags": []
   },
   "outputs": [
    {
     "data": {
      "image/png": "[encoded data removed]",
      "text/plain": [
       "<Figure size 1200x600 with 1 Axes>"
      ]
     },
     "metadata": {},
     "output_type": "display_data"
    }
   ],
   "source": [
    "for k in range(len(previsoes)):\n",
    "    plt.figure(figsize=(12,6))\n",
    "    previsoes[k]['0.5'].plot(label = 'Mediana', color = 'red')\n",
    "    #serie_temporal_teste[k].plot(label = 'Alvo')\n",
    "    serie_temporal_teste[k][-prediction_length - context_length:].plot(label = 'Alvo')\n",
    "    p10 = previsoes[k]['0.1']\n",
    "    p90 = previsoes[k]['0.9']\n",
    "    plt.fill_between(p10.index, p10, p90, color = 'y', alpha = 0.5, label = 'Intervalo de confiança')\n",
    "    plt.legend()\n",
    "    plt.show()"
   ]
  },
  {
   "cell_type": "code",
   "execution_count": null,
   "id": "5f8c2d8c-e0b2-4f68-aedc-6375d0cab752",
   "metadata": {},
   "outputs": [],
   "source": []
  }
 ],
 "metadata": {
  "kernelspec": {
   "display_name": "conda_python3",
   "language": "python",
   "name": "conda_python3"
  },
  "language_info": {
   "codemirror_mode": {
    "name": "ipython",
    "version": 3
   },
   "file_extension": ".py",
   "mimetype": "text/x-python",
   "name": "python",
   "nbconvert_exporter": "python",
   "pygments_lexer": "ipython3",
   "version": "3.10.14"
  }
 },
 "nbformat": 4,
 "nbformat_minor": 5
}
